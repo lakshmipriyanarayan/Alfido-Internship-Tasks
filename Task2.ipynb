{
 "cells": [
  {
   "cell_type": "code",
   "execution_count": 1,
   "id": "821b2c46-5c92-42d1-aa9c-105036e65379",
   "metadata": {},
   "outputs": [
    {
     "name": "stdout",
     "output_type": "stream",
     "text": [
      "Root Mean Squared Error (RMSE): 993439.3625461508\n",
      "R² Score: 0.0322838566327992\n",
      "                 Coefficient\n",
      "bedrooms       -64497.461587\n",
      "bathrooms       36520.440676\n",
      "sqft_living       186.049845\n",
      "sqft_lot           -0.514414\n",
      "floors          69824.740108\n",
      "waterfront     382459.666353\n",
      "view            44755.841775\n",
      "condition       29335.539392\n",
      "sqft_above         96.860817\n",
      "sqft_basement      89.189028\n",
      "yr_built        -2569.163533\n",
      "yr_renovated        8.259917\n"
     ]
    }
   ],
   "source": [
    "# Import libraries\n",
    "import pandas as pd\n",
    "from sklearn.model_selection import train_test_split\n",
    "from sklearn.linear_model import LinearRegression\n",
    "from sklearn.metrics import mean_squared_error, r2_score\n",
    "\n",
    "# Load dataset (replace with your CSV file path)\n",
    "df = pd.read_csv(\"data.csv\")\n",
    "\n",
    "# Drop non-numeric or irrelevant columns\n",
    "df = df.drop(['date', 'street', 'city', 'statezip', 'country'], axis=1)\n",
    "\n",
    "# Features (X) and Target (y)\n",
    "X = df.drop('price', axis=1)\n",
    "y = df['price']\n",
    "\n",
    "# Split dataset (80% train, 20% test)\n",
    "X_train, X_test, y_train, y_test = train_test_split(X, y, test_size=0.2, random_state=42)\n",
    "\n",
    "# Create and train Linear Regression model\n",
    "model = LinearRegression()\n",
    "model.fit(X_train, y_train)\n",
    "\n",
    "# Predictions\n",
    "y_pred = model.predict(X_test)\n",
    "\n",
    "# Evaluation\n",
    "mse = mean_squared_error(y_test, y_pred)\n",
    "rmse = mse ** 0.5\n",
    "r2 = r2_score(y_test, y_pred)\n",
    "\n",
    "print(f\"Root Mean Squared Error (RMSE): {rmse}\")\n",
    "print(f\"R² Score: {r2}\")\n",
    "\n",
    "# Optional: View coefficients\n",
    "coefficients = pd.DataFrame(model.coef_, X.columns, columns=['Coefficient'])\n",
    "print(coefficients)\n"
   ]
  },
  {
   "cell_type": "code",
   "execution_count": null,
   "id": "a2608b8b-1ba1-4d4e-a4a6-8d9c0e3285d1",
   "metadata": {},
   "outputs": [],
   "source": []
  }
 ],
 "metadata": {
  "kernelspec": {
   "display_name": "Python 3 (ipykernel)",
   "language": "python",
   "name": "python3"
  },
  "language_info": {
   "codemirror_mode": {
    "name": "ipython",
    "version": 3
   },
   "file_extension": ".py",
   "mimetype": "text/x-python",
   "name": "python",
   "nbconvert_exporter": "python",
   "pygments_lexer": "ipython3",
   "version": "3.12.7"
  }
 },
 "nbformat": 4,
 "nbformat_minor": 5
}
